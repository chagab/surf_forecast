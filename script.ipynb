{
 "cells": [
  {
   "cell_type": "code",
   "execution_count": null,
   "metadata": {},
   "outputs": [],
   "source": [
    "import pysurfline as psl\n",
    "import matplotlib\n",
    "import matplotlib.pyplot as plt\n",
    "\n",
    "matplotlib.use('Qt5Agg')\n",
    "plt.ion()"
   ]
  },
  {
   "cell_type": "code",
   "execution_count": null,
   "metadata": {},
   "outputs": [],
   "source": [
    "plt.close('all')\n",
    "spotIds = [\n",
    "    \"584204214e65fad6a7709b9f\",  # Malibu First Point\n",
    "    \"5842041f4e65fad6a770881e\",  # Topanga Beach\n",
    "    \"5842041f4e65fad6a7708914\",  # Sunset Point\n",
    "    \"5d6562fdca83aa00012b47af\",  # Bay St.\n",
    "    \"590927576a2e4300134fbed8\",  # Venice Breakwater\n",
    "    \"5842041f4e65fad6a7708906\",  # El porto\n",
    "]\n",
    "\n",
    "spotforecasts = [psl.get_spot_forecasts(spotId) for spotId in spotIds]"
   ]
  },
  {
   "cell_type": "code",
   "execution_count": null,
   "metadata": {},
   "outputs": [],
   "source": [
    "t = [forecast.timestamp for forecast in spotforecasts[0].forecasts]\n",
    "min_surf = [forecast.surf.min for forecast in spotforecasts[0].forecasts]\n",
    "max_surf = [forecast.surf.max for forecast in spotforecasts[0].forecasts]"
   ]
  },
  {
   "cell_type": "code",
   "execution_count": 38,
   "metadata": {},
   "outputs": [],
   "source": [
    "plt.close('all')\n",
    "\n",
    "plt.figure()\n",
    "\n",
    "for i, spotforecast in enumerate(spotforecasts):\n",
    "    name = spotforecast.name\n",
    "    t = [forecast.timestamp.dt for forecast in spotforecast.forecasts]\n",
    "    min_surf = [forecast.surf.min for forecast in spotforecast.forecasts]\n",
    "    max_surf = [forecast.surf.max for forecast in spotforecast.forecasts]\n",
    "\n",
    "    ax = plt.subplot(2, 3, i+1)\n",
    "    ax.set_title(name)\n",
    "    ax.bar(t, max_surf, width=0.05, color='dodgerblue')\n",
    "    ax.bar(t, min_surf, width=0.05, color='lightblue')\n",
    "    ax.set_ylabel('Surf height (m)')\n",
    "    ax.set_xlabel('Date (UTC time)')\n",
    "\n",
    "plt.tight_layout()\n",
    "plt.show()"
   ]
  }
 ],
 "metadata": {
  "kernelspec": {
   "display_name": "surf_city",
   "language": "python",
   "name": "python3"
  },
  "language_info": {
   "codemirror_mode": {
    "name": "ipython",
    "version": 3
   },
   "file_extension": ".py",
   "mimetype": "text/x-python",
   "name": "python",
   "nbconvert_exporter": "python",
   "pygments_lexer": "ipython3",
   "version": "3.12.0"
  }
 },
 "nbformat": 4,
 "nbformat_minor": 2
}
