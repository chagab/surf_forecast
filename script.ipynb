{
 "cells": [
  {
   "cell_type": "code",
   "execution_count": 13,
   "metadata": {},
   "outputs": [
    {
     "data": {
      "text/plain": [
       "<contextlib.ExitStack at 0x149006b69f0>"
      ]
     },
     "execution_count": 13,
     "metadata": {},
     "output_type": "execute_result"
    }
   ],
   "source": [
    "import pysurfline as psl\n",
    "import datetime as dt\n",
    "\n",
    "import matplotlib\n",
    "import matplotlib.pyplot as plt\n",
    "import matplotlib.dates as mdates\n",
    "\n",
    "matplotlib.use('Qt5Agg')\n",
    "plt.ion()"
   ]
  },
  {
   "cell_type": "code",
   "execution_count": 3,
   "metadata": {},
   "outputs": [],
   "source": [
    "plt.close('all')\n",
    "spotIds = [\n",
    "    \"584204214e65fad6a7709b9f\",  # Malibu First Point\n",
    "    \"5842041f4e65fad6a770881e\",  # Topanga Beach\n",
    "    \"5842041f4e65fad6a7708914\",  # Sunset Point\n",
    "    \"5d6562fdca83aa00012b47af\",  # Bay St.\n",
    "    \"590927576a2e4300134fbed8\",  # Venice Breakwater\n",
    "    \"5842041f4e65fad6a7708906\",  # El porto\n",
    "]\n",
    "\n",
    "spotforecasts = [psl.get_spot_forecasts(spotId) for spotId in spotIds]"
   ]
  },
  {
   "cell_type": "code",
   "execution_count": 46,
   "metadata": {},
   "outputs": [],
   "source": [
    "plt.close('all')\n",
    "\n",
    "plt.figure(figsize=(15, 12))\n",
    "\n",
    "axes = []\n",
    "\n",
    "for i, spotforecast in enumerate(spotforecasts):\n",
    "    # fetch the spot forecast' data\n",
    "    name = spotforecast.name\n",
    "    t = [forecast.timestamp.dt  # - dt.timedelta(hours=8)\n",
    "         for forecast in spotforecast.forecasts]\n",
    "    min_surf = [forecast.surf.min for forecast in spotforecast.forecasts]\n",
    "    max_surf = [forecast.surf.max for forecast in spotforecast.forecasts]\n",
    "\n",
    "    ax = plt.subplot(2, 3, i+1)\n",
    "    ax.set_title(name)\n",
    "    ax.bar(t, max_surf, width=0.1, color='dodgerblue')\n",
    "    ax.bar(t, min_surf, width=0.1, color='lightblue')\n",
    "    if i == 0 or i == 3:  # only display the ylabel for the most left plots\n",
    "        ax.set_ylabel('Surf height (ft)')\n",
    "    if i >= 3:  # Only display the xlabel for the second row\n",
    "        ax.set_xlabel('Date (PST time)')\n",
    "    ax.axvline(\n",
    "        dt.datetime.now(dt.timezone.utc),\n",
    "        color=\"r\",\n",
    "        label=\"Now\",\n",
    "        linewidth=1,\n",
    "        zorder=3,\n",
    "    )\n",
    "    ax.figure.autofmt_xdate()\n",
    "    ax.xaxis.set_minor_locator(\n",
    "        mdates.HourLocator(byhour=(0, 3, 6, 9, 12, 15, 18, 21))\n",
    "    )\n",
    "    ax.xaxis.set_major_locator(mdates.DayLocator())\n",
    "    ax.xaxis.set_major_formatter(mdates.DateFormatter(\"%d-%b\"))\n",
    "    ax.xaxis.set_minor_formatter(mdates.DateFormatter(\"%H\"))\n",
    "\n",
    "    # Rotates and right-aligns the x labels so they don't crowd each other.\n",
    "    ax.tick_params(axis=\"x\", which=\"major\", pad=10)\n",
    "    for label in ax.get_yticklabels(which=\"major\"):\n",
    "        label.set(rotation=0, size=7)\n",
    "    for label in ax.get_xticklabels(which=\"major\"):\n",
    "        label.set(rotation=0, horizontalalignment=\"center\", size=10)\n",
    "    for label in ax.get_xticklabels(which=\"minor\"):\n",
    "        label.set(horizontalalignment=\"center\", size=7)\n",
    "\n",
    "    axes.append(ax)\n",
    "\n",
    "# set the same y_lim for every axes\n",
    "max_y_lim = max([ax.get_ylim()[1] for ax in axes])\n",
    "for ax in axes:\n",
    "    ax.set_ylim((0, max_y_lim))\n",
    "\n",
    "plt.tight_layout()\n",
    "plt.show()"
   ]
  }
 ],
 "metadata": {
  "kernelspec": {
   "display_name": "surf_city",
   "language": "python",
   "name": "python3"
  },
  "language_info": {
   "codemirror_mode": {
    "name": "ipython",
    "version": 3
   },
   "file_extension": ".py",
   "mimetype": "text/x-python",
   "name": "python",
   "nbconvert_exporter": "python",
   "pygments_lexer": "ipython3",
   "version": "3.12.0"
  }
 },
 "nbformat": 4,
 "nbformat_minor": 2
}
